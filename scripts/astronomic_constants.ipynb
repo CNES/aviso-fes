{
  "cells": [
  {
   "cell_type": "markdown",
   "metadata": {},
   "source": [
    "# Astronomical constants calculation."
   ]
  },
  {
   "cell_type": "code",
   "execution_count": null,
   "metadata": {},
   "outputs": [],
   "source": [
    "import dataclasses\n",
    "import math\n",
    "\n",
    "\n",
    "def dms_to_deg(degrees: float, minutes: float, seconds: float) -> float:\n",
    "    \"\"\"\n",
    "    Converts degrees, minutes, and seconds to decimal degrees.\n",
    "\n",
    "    Args:\n",
    "        degrees (float): The degrees value.\n",
    "        minutes (float): The minutes value.\n",
    "        seconds (float): The seconds value.\n",
    "\n",
    "    Returns:\n",
    "        float: The decimal degrees value.\n",
    "    \"\"\"\n",
    "    return degrees + minutes / 60 + seconds / 3600"
   ]
  },
  {
   "cell_type": "code",
   "execution_count": null,
   "metadata": {},
   "outputs": [],
   "source": [
    "@dataclasses.dataclass\n",
    "class AstronomicConstants:\n",
    "    \"\"\"Astronomic constants used in the Manual Of Harmonic Analysis and\n",
    "    Prediction of Tides.\n",
    "    \n",
    "    Special Publication No. 98 Revised (1940) Edition.\"\"\"\n",
    "    \n",
    "    #: Inclination of moon's orbit to plane of ecliptic\n",
    "    i: float\n",
    "\n",
    "    #: Obliquity of ecliptic\n",
    "    w: float\n",
    "\n",
    "    #: Eccentricity of earth's orbit\n",
    "    e1: float\n",
    "\n",
    "    #: Eccentricity of moon's orbit\n",
    "    e: float\n",
    "\n",
    "    #: Solar factor\n",
    "    s: float\n"
   ]
  },
  {
   "cell_type": "code",
   "execution_count": null,
   "metadata": {},
   "outputs": [],
   "source": [
    "def schureman_values() -> AstronomicConstants:\n",
    "    \"\"\"Returns the Schureman's values as written in the book.\"\"\"\n",
    "    return AstronomicConstants(i=math.radians(5.145),\n",
    "                               w=math.radians(23.452),\n",
    "                               e1=0.016_75,\n",
    "                               e=0.054_90,\n",
    "                               s=0.4602)"
   ]
  },
  {
   "cell_type": "code",
   "execution_count": null,
   "metadata": {},
   "outputs": [],
   "source": [
    "def schureman_recomputed_values() -> AstronomicConstants:\n",
    "    \"Returns the Schureman's values recomputed with the given values written in the book.\"\n",
    "    # Distance of the center of the earth to the center of the moon\n",
    "    # (in miles)\n",
    "    R = 239_000\n",
    "    # Mass (of sun/mass) of earthy (S/E)\n",
    "    SE = 331_954\n",
    "    # Mass of moon/mass of earth (M/E)\n",
    "    ME = 0.012_27\n",
    "    # Solar parallex\n",
    "    c1: float = math.radians(dms_to_deg(0, 0, 8.80))\n",
    "    # Lunar equatorial parallex\n",
    "    c: float = math.radians(dms_to_deg(0, 57, 2.70))\n",
    "    # Mean earth radius in miles\n",
    "    mean_earth_radius = 3_958.9\n",
    "    # Equatorial radius of earth in miles\n",
    "    earth_equatorial_radius = 3_963.37\n",
    "    # Mean solar parallax in respect to mean radius\n",
    "    ac1 = (mean_earth_radius / earth_equatorial_radius) * c1\n",
    "    # Mean lunar parallax in respect to mean radius\n",
    "    ac = (mean_earth_radius / earth_equatorial_radius) * c\n",
    "    # Solar coefficient U1 (SE) * ac1^3\n",
    "    u1: float = SE * ac1**3\n",
    "    # Basic factor U (ME) * ac^3\n",
    "    u: float = ME * ac**3\n",
    "\n",
    "    return AstronomicConstants(\n",
    "        i=math.radians(dms_to_deg(5, 8, 43.3546)),\n",
    "        w=math.radians(dms_to_deg(23, 27, 8.26)),\n",
    "        e1=0.016_75,\n",
    "        e=0.054_90,\n",
    "        s=u1/u,\n",
    "    )"
   ]
  },
  {
   "cell_type": "code",
   "execution_count": null,
   "metadata": {},
   "outputs": [],
   "source": [
    "def astronomic_constants() -> AstronomicConstants:\n",
    "    \"\"\"Astronomic constants.\"\"\"\n",
    "    # Mass (of sun/mass) of earthy (S/E)\n",
    "    SE = 332946.0487\n",
    "    # Mass of moon/mass of earth (M/E)\n",
    "    ME = 0.0123000371\n",
    "    # Solar parallex\n",
    "    c1 = dms_to_deg(0, 0, 8.794_143)\n",
    "    # Lunar equatorial parallex\n",
    "    c = dms_to_deg(0, 57, 2.70)\n",
    "    mean_earth_radius = 6_371_008.771415059\n",
    "    earth_equatorial_radius = 6_378_137.0\n",
    "    # Mean solar parallax in respect to mean radius\n",
    "    ac1 = (mean_earth_radius / earth_equatorial_radius) * c1\n",
    "    # Mean lunar parallax in respect to mean radius\n",
    "    ac = (mean_earth_radius / earth_equatorial_radius) * c\n",
    "    # Solar coefficient U1 (SE) * ac1^3\n",
    "    u1: float = SE * ac1**3\n",
    "    # Basic factor U (ME) * ac^3\n",
    "    u: float = ME * ac**3\n",
    "\n",
    "    return AstronomicConstants(\n",
    "        i=math.radians(dms_to_deg(5, 8, 43.3546)),\n",
    "        w=math.radians(dms_to_deg(23, 26, 21.45)),\n",
    "        e1=0.016_71,\n",
    "        e=0.054_9006,\n",
    "        s=u1 / u,\n",
    "    )"
   ]
  },
  {
   "cell_type": "code",
   "execution_count": null,
   "metadata": {},
   "outputs": [],
   "source": [
    "const = schureman_values()\n",
    "const"
   ]
  },
  {
   "cell_type": "markdown",
   "metadata": {},
   "source": [
    "Page 25, formulae #73, Page 24, formulae #65\n",
    "\n",
    "* $\\{2/3 - sin^2(\\omega)\\}\\{1 - 3/2 \\times sin(i)\\} = 0.5021$\n",
    "* $f(Mm) = \\{2/3 - sin^2(I)\\} / 0.5021$"
   ]
  },
  {
   "cell_type": "code",
   "execution_count": null,
   "metadata": {},
   "outputs": [],
   "source": [
    "a65 = (2/3 - math.sin(const.w)**2) * (1 - 3/2 * math.sin(const.i)**2)\n",
    "print(f\"{a65:.4f}\")"
   ]
  },
  {
   "cell_type": "markdown",
   "metadata": {},
   "source": [
    "Page 25, formulae #74, Page 24, formulae #66\n",
    "\n",
    "* $sin^2(\\omega) \\times \\cos^4(\\frac{1}{2}i) = 0.1528$\n",
    "* $f(Mf) = sin^2(I) / 0.1528$"
   ]
  },
  {
   "cell_type": "code",
   "execution_count": null,
   "metadata": {},
   "outputs": [],
   "source": [
    "a66 = math.sin(const.w)**2 *  math.cos(0.5 * const.i)**4\n",
    "print(f\"a66 = {a66:.4f}\")"
   ]
  },
  {
   "cell_type": "markdown",
   "metadata": {},
   "source": [
    "Page 25, formulae #75, Page 25, formulae #67\n",
    "\n",
    "* $sin(\\omega)cos^2(\\frac{1}{2}\\omega)cos^4(\\frac{1}{2}i) = 0.3800$\n",
    "* $f(O_1) = sin(I) \\times cos^2(\\frac{1}{2}I) / 0.3800$"
   ]
  },
  {
   "cell_type": "code",
   "execution_count": null,
   "metadata": {},
   "outputs": [],
   "source": [
    "a67 = math.sin(const.w) * math.cos(0.5 * const.w)**2 * math.cos(0.5 * const.i)**4\n",
    "print(f\"a67 = {a67:.4f}\")"
   ]
  },
  {
   "cell_type": "markdown",
   "metadata": {},
   "source": [
    "Page 25, formulae #76, Page 25, formulae #68\n",
    "\n",
    "* $sin(2\\omega) \\times \\{1 - 3/2 \\times sin^2(i)\\} = 0.7214$\n",
    "* $f(J_1) = sin(2I) / 0.7214$"
   ]
  },
  {
   "cell_type": "code",
   "execution_count": null,
   "metadata": {},
   "outputs": [],
   "source": [
    "a68 = math.sin(2 * const.w) * (1 - 3 / 2 * math.sin(const.i)**2)\n",
    "print(f\"a68 = {a68:.4f}\")"
   ]
  },
  {
   "cell_type": "markdown",
   "metadata": {},
   "source": [
    "Page 25, formulae #77, Page 25, formulae #69\n",
    "\n",
    "* $sin(\\omega) \\times sin^2(\\frac{1}{2}\\omega) \\times cos^4(\\frac{1}{2}i) = 0.0164$\n",
    "* $f(OO_1) = sin(I) \\times sin^2(\\frac{1}{2}I) / 0.0164$"
   ]
  },
  {
   "cell_type": "code",
   "execution_count": null,
   "metadata": {},
   "outputs": [],
   "source": [
    "a69 = math.sin(const.w) * math.sin(0.5 * const.w)**2 * math.cos(0.5 * const.i)**4\n",
    "print(f\"a69 = {a69:.4f}\")"
   ]
  },
  {
   "cell_type": "markdown",
   "metadata": {},
   "source": [
    "Page 25, formulae #78, Page 25, formulae #70\n",
    "\n",
    "* $cos^4(\\frac{1}{2}\\omega) \\times cos^4(\\frac{1}{2}i) = 0.9154$\n",
    "* $f(M_2) = sin^4(\\frac{1}{2}I) / 0.9154$"
   ]
  },
  {
   "cell_type": "code",
   "execution_count": null,
   "metadata": {},
   "outputs": [],
   "source": [
    "a70 = math.cos(0.5 * const.w)**4 * math.cos(0.5 * const.i)**4\n",
    "print(f\"a70 = {a70:.4f}\")"
   ]
  },
  {
   "cell_type": "markdown",
   "metadata": {},
   "source": [
    "Page 25, formulae #79, Page 25, formulae #71\n",
    "\n",
    "* $sin^2(\\omega) \\times (1 -3/2 \\times sin^2(i))$\n",
    "* $f(79) = sin^2I / 0.1565$"
   ]
  },
  {
   "cell_type": "code",
   "execution_count": null,
   "metadata": {},
   "outputs": [],
   "source": [
    "a71 = math.sin(const.w)**2 * (1 - 3/2 * math.sin(const.i)**2)\n",
    "print(f\"a71 = {a71:.4f}\")\n"
   ]
  },
  {
   "cell_type": "markdown",
   "metadata": {},
   "source": [
    "Page 36, formulae #141, Page 35, formulae #137\n",
    "\n",
    "* $sin(I) -5/4 \\times sin^3(I) = 0.3192$\n",
    "* $f(141) = sin(I) - 5/4 \\times sin^3(i) / 0.3192$"
   ]
  },
  {
   "cell_type": "code",
   "execution_count": null,
   "metadata": {},
   "outputs": [],
   "source": [
    "a141 = math.sin(const.w) - 5/4 * math.sin(const.w)**3\n",
    "print(f\"a141 = {a141:.4f}\")"
   ]
  },
  {
   "cell_type": "markdown",
   "metadata": {},
   "source": [
    "Page 36, formulae #149, Page 35, formulae #140\n",
    "* $cos^6(\\frac{1}{2}I) + cos^4(\\frac{1}{2}I) \\times sin^2(\\frac{1}{2}I)$\n",
    "* $f(M_3) = cos^6(\\frac{1}{2}I) / 0.8758$"
   ]
  },
  {
   "cell_type": "markdown",
   "metadata": {},
   "source": [
    "Page 41, formulae #207, Page 41, formulae #195\n",
    "\n",
    "* $1/Q_a = \\left[1/4 + 3/2\\frac{cos I}{cos^2 \\frac{1}{2}I}\\times cos 2P + 9/4\\frac{cos^2 I}{cos^4 \\frac{1}{2} I}\\right]^\\frac{1}{2}$\n",
    "* $1/Q_a = \\left(2.310 + 1.435 \\times cos(2P)\\right)^\\frac{1}{2}$\n",
    "* $cos(2P) = cos(2 \\times (p - \\xi)) $\n",
    "* $f(M_ 1) = f(O_ 1) \\times 1 / Q_a$"
   ]
  },
  {
   "cell_type": "code",
   "execution_count": null,
   "metadata": {},
   "outputs": [],
   "source": [
    "a195_1 = (1/4) + (9/4) * (math.cos(const.w)**2 / math.cos(0.5 * const.w)**4)\n",
    "a195_2 = (3/2) * (math.cos(const.w) / math.cos(0.5 * const.w)**2)\n",
    "print(f\"a195_1 = {a195_1:.3f}\")\n",
    "print(f\"a195_2 = {a195_2:.3f}\")\n"
   ]
  },
  {
   "cell_type": "markdown",
   "metadata": {},
   "source": [
    "Page 45, formulae 216 & 218, 217, 219\n",
    "\n",
    "* $1/2 + 3/4 \\times e^2 = 0.5023$\n",
    "* $(1/2 + 3/4 \\times e_1^2) \\times S' \\times sin(2\\omega) = 0.1681$\n",
    "* $(1/2 + 3/4 \\times e_1^2) \\times S'  \\times sin^2(\\omega) = 0.0365$"
   ]
  },
  {
   "cell_type": "code",
   "execution_count": null,
   "metadata": {},
   "outputs": [],
   "source": [
    "term_a22 = 1/2+3/4 * const.e**2\n",
    "term_b22 = (1/2 + 3/4 * const.e1**2) * const.s * math.sin(2 * const.w)\n",
    "term_a47 = 1/2+3/4 * const.e**2\n",
    "term_b47 = (1/2 + 3/4 * const.e1**2) * const.s * math.sin(const.w)**2\n",
    "\n",
    "print(f\"term A22 = {term_a22:.4f}\")\n",
    "print(f\"term B22 = {term_b22:.4f}\")\n",
    "print(f\"term A47 = {term_a47:.4f}\")\n",
    "print(f\"term B47 = {term_b47:.4f}\")"
   ]
  },
  {
   "cell_type": "markdown",
   "metadata": {},
   "source": [
    "Page #45, formulae #226\n",
    "* $\\left[(A^2 + 2AB \\times cos(\\upsilon) + B^2)^\\frac{1}{2} \\times cos(\\upsilon')\\right]_0$\n",
    "* $\\left[0.5023 \\times sin(2I) cos(\\upsilon) + 0.1681\\right]_0 = 0.5305$"
   ]
  },
  {
   "cell_type": "code",
   "execution_count": null,
   "metadata": {},
   "outputs": [],
   "source": [
    "a226 = (term_a22 * a68 + term_b22)\n",
    "print(f\"a226 = {a226:.4f}\")"
   ]
  },
  {
   "cell_type": "markdown",
   "metadata": {},
   "source": [
    "Page #45, formulae #227\n",
    "* $f(K_1) = (0.2523 \\times sin^2(2I) + 0.1689 \\times sin(2I) \\times cos(\\upsilon) + 0.0283)^\\frac{1}{2}/0.5305$\n",
    "* $f(K_1) = (0.8965 \\times sin^2(2I) + 0.6001 \\times sin(2I) \\times cos(\\upsilon) + 0.1006)^\\frac{1}{2}$"
   ]
  },
  {
   "cell_type": "code",
   "execution_count": null,
   "metadata": {},
   "outputs": [],
   "source": [
    "print(f\"{(term_a22** 2) / a226**2:.4f}\")\n",
    "print(f\"{(term_a22 * term_b22 * 2) / a226**2:.4f}\")\n",
    "print(f\"{term_b22**2 / a226**2:.4f}\")"
   ]
  },
  {
   "cell_type": "markdown",
   "metadata": {},
   "source": [
    "Page #46, formulae #234\n",
    "* $\\left[(A^2 + 2AB \\times cos(2\\upsilon) + B^2)^\\frac{1}{2} \\times cos(\\upsilon')\\right]_0$\n",
    "* $\\left[0.5023 \\times sin^2(2I) cos(\\upsilon) + 0.0365\\right]_0 = 0.1151$"
   ]
  },
  {
   "cell_type": "code",
   "execution_count": null,
   "metadata": {},
   "outputs": [],
   "source": [
    "a234: float = (term_a47 * a71 + term_b47)\n",
    "print(f\"a226 = {a234:.4f}\")"
   ]
  },
  {
   "cell_type": "markdown",
   "metadata": {},
   "source": [
    "Page #46, formulae #235\n",
    "* $f(K_2) = (0.2523 \\times sin^4(I) + 0.0367 \\times sin^2(I) \\times cos(2\\upsilon) + 0.0013)^\\frac{1}{2}/0.1151$\n",
    "* $f(K_2) = (19.0444 \\times sin^4(I) + 2.7702 \\times sin^2(I) \\times cos(2\\upsilon) + 0.0981)^\\frac{1}{2}$"
   ]
  },
  {
   "cell_type": "code",
   "execution_count": null,
   "metadata": {},
   "outputs": [],
   "source": [
    "print(f\"{(term_a47** 2) / a234**2:.4f}\")\n",
    "print(f\"{(term_a47 * term_b47 * 2) / a234**2:.4f}\")\n",
    "print(f\"{term_b47**2 / a234**2:.4f}\")"
   ]
  }
 ],
 "metadata": {
  "kernelspec": {
   "display_name": "base",
   "language": "python",
   "name": "python3"
  },
  "language_info": {
   "codemirror_mode": {
    "name": "ipython",
    "version": 3
   },
   "file_extension": ".py",
   "mimetype": "text/x-python",
   "name": "python",
   "nbconvert_exporter": "python",
   "pygments_lexer": "ipython3",
   "version": "3.10.12"
  },
  "orig_nbformat": 4
 },
 "nbformat": 4,
 "nbformat_minor": 2
}
